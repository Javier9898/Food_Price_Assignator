{
 "metadata": {
  "language_info": {
   "codemirror_mode": {
    "name": "ipython",
    "version": 3
   },
   "file_extension": ".py",
   "mimetype": "text/x-python",
   "name": "python",
   "nbconvert_exporter": "python",
   "pygments_lexer": "ipython3",
   "version": "3.6.10-final"
  },
  "orig_nbformat": 2,
  "kernelspec": {
   "name": "python361064bitpy36conda0132dc8237274b86abb41c29e46182d2",
   "display_name": "Python 3.6.10 64-bit ('py36': conda)"
  }
 },
 "nbformat": 4,
 "nbformat_minor": 2,
 "cells": [
  {
   "cell_type": "code",
   "execution_count": 1,
   "metadata": {},
   "outputs": [],
   "source": [
    "from tensorflow import keras\n",
    "import tensorflow as tf\n",
    "import matplotlib.pyplot as plt\n",
    "import cv2"
   ]
  },
  {
   "cell_type": "code",
   "execution_count": 25,
   "metadata": {},
   "outputs": [],
   "source": [
    "model = tf.keras.models.load_model('fruitdetector_new_model.h5')"
   ]
  },
  {
   "cell_type": "code",
   "execution_count": 30,
   "metadata": {},
   "outputs": [],
   "source": [
    "banana= \"[[1. 0. 0.]]\"\n",
    "manzana= \"[[0. 1. 0.]]\"\n",
    "uva= \"[[0. 0. 1.]]\""
   ]
  },
  {
   "cell_type": "code",
   "execution_count": 40,
   "metadata": {},
   "outputs": [],
   "source": [
    "def prepare(filepath):\n",
    "    training_date = []\n",
    "    \n",
    "    img_array = cv2.imread(filepath,cv2.COLOR_BGR2RGB)\n",
    "    new_array = cv2.resize(img_array,(224,224))\n",
    "    new_image =  new_array.reshape(-1,224,224,3)\n",
    "    return new_image"
   ]
  },
  {
   "cell_type": "code",
   "execution_count": 41,
   "metadata": {},
   "outputs": [],
   "source": [
    "cap = cv2.VideoCapture(0) # video capture source camera (Here webcam of laptop) \n",
    "ret,frame = cap.read()\n",
    "cv2.imwrite('c1.png',frame)\n",
    "cap.release()\n",
    "cv2.destroyAllWindows()\n",
    "\n",
    "cap.release()"
   ]
  },
  {
   "cell_type": "code",
   "execution_count": 42,
   "metadata": {},
   "outputs": [],
   "source": [
    "filepath = 'c1.png'\n",
    "img_array = cv2.imread(filepath,cv2.IMREAD_GRAYSCALE)\n",
    "\n",
    "#plt.imshow(img_array)"
   ]
  },
  {
   "cell_type": "code",
   "execution_count": 43,
   "metadata": {
    "tags": []
   },
   "outputs": [
    {
     "output_type": "stream",
     "name": "stdout",
     "text": "Manzana\n"
    }
   ],
   "source": [
    "test = model.predict([prepare(filepath='c1.png')])\n",
    "if banana == str(test):\n",
    "    print(\"Banana\")\n",
    "    categoria = \"Banana\"\n",
    "elif manzana == str(test):\n",
    "    print(\"Manzana\")\n",
    "    categoria = \"Manzana\"\n",
    "elif uva == str(test):\n",
    "    print(\"Uva\")\n",
    "    categoria = \"Uva\"\n",
    "else:\n",
    "    print(\"Reposicione el alimento en la balanza\")\n",
    "    catergoria = \"\""
   ]
  },
  {
   "cell_type": "code",
   "execution_count": 36,
   "metadata": {},
   "outputs": [
    {
     "output_type": "execute_result",
     "data": {
      "text/plain": "array([[7.8014123e-10, 1.4691642e-29, 1.0000000e+00]], dtype=float32)"
     },
     "metadata": {},
     "execution_count": 36
    }
   ],
   "source": [
    "test"
   ]
  },
  {
   "cell_type": "code",
   "execution_count": null,
   "metadata": {},
   "outputs": [],
   "source": []
  }
 ]
}